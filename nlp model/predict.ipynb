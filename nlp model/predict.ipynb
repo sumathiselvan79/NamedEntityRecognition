{
 "cells": [
  {
   "cell_type": "code",
   "execution_count": 45,
   "metadata": {},
   "outputs": [
    {
     "name": "stdout",
     "output_type": "stream",
     "text": [
      "Loaded model from disk\n"
     ]
    }
   ],
   "source": [
    "#saving the models\n",
    "# serialize model to JSON\n",
    "import nltk\n",
    "from keras.models import model_from_json\n",
    "#pading the sequence\n",
    "from keras.preprocessing.sequence import pad_sequences\n",
    "import pickle\n",
    "import numpy as np \n",
    "\n",
    "# later...\n",
    " \n",
    "# load json and create model\n",
    "json_file = open('model.json', 'r')\n",
    "loaded_model_json = json_file.read()\n",
    "json_file.close()\n",
    "loaded_model = model_from_json(loaded_model_json)\n",
    "# load weights into new model\n",
    "loaded_model.load_weights(\"model.h5\")\n",
    "print(\"Loaded model from disk\")\n",
    "f = open('storeTag.pckl', 'rb')\n",
    "word2idx = pickle.load(f)\n",
    "f.close()\n",
    "f = open('store.pckl', 'rb')\n",
    "tag2idx = pickle.load(f)\n",
    "f.close()\n",
    "f = open('tags.pckl', 'rb')\n",
    "tags = pickle.load(f)\n",
    "f.close()"
   ]
  },
  {
   "cell_type": "code",
   "execution_count": 43,
   "metadata": {
    "collapsed": true
   },
   "outputs": [],
   "source": [
    "def predict(test_sentence=\"\"):\n",
    "    \n",
    "    test_sentence=  nltk.word_tokenize(test_sentence)\n",
    "    x_test_sent = pad_sequences(sequences=[[word2idx.get(w, 0) for w in test_sentence]],\n",
    "                            padding=\"post\", value=0, maxlen=70)\n",
    "    p = loaded_model.predict(np.array([x_test_sent[0]]))\n",
    "    p = np.argmax(p, axis=-1)\n",
    "   # print(\"{:15}||{}\".format(\"Word\", \"Prediction\"))\n",
    "   # print(30 * \"=\")\n",
    "    array=[]\n",
    "    for w, pred in zip(test_sentence, p[0]):\n",
    "    #    print(\"{:15}: {:5}\".format(w, tags[pred]))\n",
    "        array.append((w,tags[pred]))\n",
    "    return array\n",
    "    #print(array)\n",
    "#     return_text=\"\"\n",
    "#     for  text,tag in array:\n",
    "#         if tag==\"I-geo\":\n",
    "#             return_text+=text\n",
    "#     return return_text"
   ]
  },
  {
   "cell_type": "code",
   "execution_count": 44,
   "metadata": {},
   "outputs": [
    {
     "data": {
      "text/plain": [
       "[('Thousands', 'B-org'),\n",
       " ('of', 'B-org'),\n",
       " ('demonstrators', 'B-org'),\n",
       " ('marched', 'I-nat'),\n",
       " ('to', 'I-nat'),\n",
       " ('London', 'I-nat')]"
      ]
     },
     "execution_count": 44,
     "metadata": {},
     "output_type": "execute_result"
    }
   ],
   "source": [
    "predict(\"Thousands of demonstrators marched to London\")"
   ]
  },
  {
   "cell_type": "code",
   "execution_count": 61,
   "metadata": {
    "collapsed": true
   },
   "outputs": [],
   "source": [
    "# test_sentence=\"thilak god is my only one god\"\n",
    "# test_sentence=  nltk.word_tokenize(test_sentence)\n",
    "# x_test_sent = pad_sequences(sequences=[[word2idx.get(w, 0) for w in test_sentence]],\n",
    "#                             padding=\"post\", value=0, maxlen=70)\n",
    "# p = loaded_model.predict(np.array([x_test_sent[0]]))\n",
    "# p = np.argmax(p, axis=-1)\n",
    "# print(\"{:15}||{}\".format(\"Word\", \"Prediction\"))\n",
    "# print(30 * \"=\")\n",
    "# array=[]\n",
    "# #print(p[0],test_sentence)\n",
    "# for w, pred in zip(test_sentence, p[0]):\n",
    "#     print(pred)\n",
    "#     print(\"{:15}: {:5}\".format(w, tags[pred]))\n",
    "#     array.append((w,tags[pred]))\n",
    "# array"
   ]
  },
  {
   "cell_type": "code",
   "execution_count": null,
   "metadata": {
    "collapsed": true
   },
   "outputs": [],
   "source": [
    "#create an array\n",
    "#push element \n",
    "#with tags"
   ]
  }
 ],
 "metadata": {
  "kernelspec": {
   "display_name": "Python 3",
   "language": "python",
   "name": "python3"
  },
  "language_info": {
   "codemirror_mode": {
    "name": "ipython",
    "version": 3
   },
   "file_extension": ".py",
   "mimetype": "text/x-python",
   "name": "python",
   "nbconvert_exporter": "python",
   "pygments_lexer": "ipython3",
   "version": "3.5.4"
  }
 },
 "nbformat": 4,
 "nbformat_minor": 2
}
